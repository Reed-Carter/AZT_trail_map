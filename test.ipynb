{
 "cells": [
  {
   "cell_type": "code",
   "execution_count": 9,
   "metadata": {},
   "outputs": [
    {
     "data": {
      "application/vnd.jupyter.widget-view+json": {
       "model_id": "5c3f386821754e06b482482c090baccc",
       "version_major": 2,
       "version_minor": 0
      },
      "text/plain": [
       "Map(center=[34.5, -112], controls=(WidgetControl(options=['position', 'transparent_bg'], widget=HBox(children=…"
      ]
     },
     "execution_count": 9,
     "metadata": {},
     "output_type": "execute_result"
    }
   ],
   "source": [
    "import ee\n",
    "import geemap\n",
    "import pandas as pd\n",
    "import gpxpy\n",
    "import geopandas as gpd\n",
    "from shapely.geometry import Point, LineString\n",
    "\n",
    "# Initialize Earth Engine\n",
    "ee.Initialize()\n",
    "\n",
    "# Load the terrain dataset for Arizona\n",
    "terrain_dataset = ee.Image(\"USGS/SRTMGL1_003\")\n",
    "\n",
    "# Define a region of interest (ROI) for Arizona\n",
    "arizona_roi = ee.Geometry.Polygon([\n",
    "    [-114.8183, 32.5084],\n",
    "    [-109.0452, 32.5084],\n",
    "    [-109.0452, 37.0043],\n",
    "    [-114.8183, 37.0043]\n",
    "])\n",
    "\n",
    "# Read the GPX file\n",
    "gpx_file = \"GPX_data/pass_01.gpx\"\n",
    "gpx_data = gpxpy.parse(open(gpx_file))\n",
    "\n",
    "# Extract the data from the GPX file and store it in a Pandas DataFrame\n",
    "gpx_df = pd.DataFrame([\n",
    "    {\n",
    "        \"latitude\": p.latitude,\n",
    "        \"longitude\": p.longitude,\n",
    "        \"elevation\": p.elevation,\n",
    "        \"name\": p.name if p.name else \"Unnamed\"\n",
    "    }\n",
    "    for track in gpx_data.tracks\n",
    "    for segment in track.segments\n",
    "    for p in segment.points\n",
    "])\n",
    "\n",
    "# Center the map on Arizona\n",
    "Map = geemap.Map(center=[34.5, -112], zoom=7)\n",
    "\n",
    "# Add the terrain layer with a colorful palette\n",
    "terrain_vis = {\n",
    "    'min': 0,\n",
    "    'max': 4000,\n",
    "    'palette': ['blue', 'cyan', 'green', 'yellow', 'red']  # Custom color palette\n",
    "}\n",
    "Map.addLayer(terrain_dataset, terrain_vis, \"Terrain\")\n",
    "\n",
    "# Convert the DataFrame to a GeoPandas DataFrame\n",
    "geometry = [Point(lon, lat) for lon, lat in zip(gpx_df['longitude'], gpx_df['latitude'])]\n",
    "gpx_gdf = gpd.GeoDataFrame(gpx_df, geometry=geometry, crs=\"EPSG:4326\")\n",
    "\n",
    "# Create a LineString geometry from the points\n",
    "line_string = LineString(list(gpx_gdf['geometry']))\n",
    "\n",
    "# Convert the LineString geometry to Earth Engine format\n",
    "coords_list = list(line_string.coords)\n",
    "ee_coords_list = [[coord[0], coord[1]] for coord in coords_list]\n",
    "polyline_feature = ee.Geometry.LineString(ee_coords_list)\n",
    "\n",
    "# Add the GPX points as a polyline with labels\n",
    "polyline_vis = {\n",
    "    'color': 'red',  # Change the color to any valid color name or RGB value\n",
    "    'width': 3\n",
    "}\n",
    "\n",
    "Map.addLayer(polyline_feature, polyline_vis, \"GPX Path\")\n",
    "\n",
    "# Display the map\n",
    "Map"
   ]
  }
 ],
 "metadata": {
  "kernelspec": {
   "display_name": "venvAZT",
   "language": "python",
   "name": "python3"
  },
  "language_info": {
   "codemirror_mode": {
    "name": "ipython",
    "version": 3
   },
   "file_extension": ".py",
   "mimetype": "text/x-python",
   "name": "python",
   "nbconvert_exporter": "python",
   "pygments_lexer": "ipython3",
   "version": "3.10.6"
  },
  "orig_nbformat": 4
 },
 "nbformat": 4,
 "nbformat_minor": 2
}
